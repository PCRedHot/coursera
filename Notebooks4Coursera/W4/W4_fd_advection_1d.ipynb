{
 "cells": [
  {
   "cell_type": "markdown",
   "metadata": {},
   "source": [
    "<div style='background-image: url(\"./title01.png\") ; padding: 0px ; background-size: cover ; border-radius: 5px ; height: 200px'>\n",
    "<div style=\"float: right ; margin: 50px ; padding: 20px ; background: rgba(255 , 255 , 255 , 0.7) ; width: 50% ; height: 150px\">\n",
    "<div style=\"position: relative ; top: 50% ; transform: translatey(-50%)\">\n",
    "            <div style=\"font-size: xx-large ; font-weight: 900 ; color: rgba(0 , 0 , 0 , 0.8) ; line-height: 100%\">Computers, Waves, Simulations</div>\n",
    "            <div style=\"font-size: large ; padding-top: 20px ; color: rgba(0 , 0 , 0 , 0.5)\">Finite-Difference Method - Advection equation 1D</div>\n",
    "        </div>\n",
    "    </div>\n",
    "</div>"
   ]
  },
  {
   "cell_type": "markdown",
   "metadata": {},
   "source": [
    "This notebook covers the following aspects: \n",
    "\n",
    "* implementation of the 1D advection equation\n",
    "* solved using the upwind or the centred finite difference scheme \n",
    "* study the stability of the two methods when solving the one-dimensional advection equation\n",
    "* implementation of the Predictor-corrector method, McCormack scheme and Lax Wendroff Scheme\n",
    "\n",
    "Programming exercise: \n",
    "\n",
    "* Add an analytical solution to the numerical solution and plot them both at the same time. The analytical solution is simply the shift of the initial waveform by $v*t$ where $v$ is the advection velocity and $t$ is the simulation time. \n",
    "\n",
    "---"
   ]
  },
  {
   "cell_type": "markdown",
   "metadata": {},
   "source": [
    "## Advection Equation\n",
    "The source-free advection equation is given by\n",
    "\n",
    "$$\n",
    "\\partial_t u(x, t) + v \\partial_x u(x, t) = 0\n",
    "$$\n",
    "\n",
    "where $u(x,t = 0)$ is a displacement waveform at $t = 0$ (an initial condition) that is advected with velocity $v$. \n",
    "\n",
    "## Numerical Solution using the Finite Differences Method\n",
    "\n",
    "The Finite Difference Method allow us to solve this equation numerically. In this notebook it is used four schemes, first the Euler method, which is highly diffusive, second the predictor-corrector method or Heun's method and finally the McCormak scheme and the Lax Wendroff scheme. "
   ]
  },
  {
   "cell_type": "markdown",
   "metadata": {},
   "source": [
    "#### Euler method\n",
    "The Euler's method is the most basic method for numerical integration to solve first order degree differential equations with an initial condition. The general formula is the following, \n",
    "$$\n",
    "u_{n+1} = u_n + \\Delta t f(u_n, t_n)\n",
    "$$\n",
    "where $u$ is the velocity field, $t$ is the time, $h$ is the step and $f$ is the linear operator on the right hand side of the advection equation, in this case is $f(u_n, t_n) =  - v \\partial_x u(x, t)$. \n",
    "The linear operator is a partial derivative in the space domain $x$, which is calculated using the centred or the backward finite difference scheme. \n",
    "\n",
    "#### Centred finite-difference scheme\n",
    "This scheme is used to solve parabolic partial differential equations, although the advection equation is an hyperbolic equation, this method is applied in this notebook in order to see how the output behaves. It gives an unstable solution, and it can be fixed adding an additional viscosity term (see bellow the Lax Wendrof approximation). \n",
    "Discretizing the advection, equation using the centred scheme we obtain,  \n",
    "\n",
    "$$\n",
    "\\frac{u_i^{n+1}- u_i^n}{\\Delta t} + v \\frac{u_{i+1}^n - u_{i-1}^n}{2 \\Delta x} = 0\n",
    "$$\n",
    "\n",
    "leading to the equation, \n",
    "\n",
    "$$\n",
    "u_i^{n+1} = u_i^n - v \\frac{\\Delta t}{2 \\Delta x} (u_{i+1}^n + u_{i-1}^n)\n",
    "$$.\n",
    "\n",
    "#### Upwind finite difference scheme\n",
    "The Upwind finite difference scheme is a numerical approach for hyperbolic partial differential equations, like the advection equation. It discretizes the equations using the difference with the previous step and the direction of propagation is determined by the sign of the velocity. In this case the advection equation looks like \n",
    "\n",
    "$$\n",
    "\\frac{u_i^{n+1}- u_i^n}{\\Delta t} + v \\frac{u_{i}^n - u_{i-1}^n}{\\Delta x} = 0\n",
    "$$\n",
    "\n",
    "which provides the equation, \n",
    "\n",
    "$$\n",
    "u_i^{n+1} = u_i^n - v \\frac{\\Delta t}{\\Delta x} (u_{i}^n + u_{i-1}^n)\n",
    "$$."
   ]
  },
  {
   "cell_type": "code",
   "execution_count": null,
   "metadata": {
    "code_folding": [
     0
    ]
   },
   "outputs": [],
   "source": [
    "# Import Libraries\n",
    "# ----------------------------------------------\n",
    "import math\n",
    "import numpy as np\n",
    "import matplotlib.pylab as plt\n",
    "\n",
    "import matplotlib.animation as animation\n",
    "from IPython.display import HTML, display\n",
    "\n",
    "# Progress Bar\n",
    "# ----------------------\n",
    "from progress_bar import ProgressBarHandler\n",
    "\n",
    "# Ignore Warning Messages\n",
    "# -----------------------\n",
    "import warnings\n",
    "warnings.filterwarnings(\"ignore\")"
   ]
  },
  {
   "cell_type": "code",
   "execution_count": null,
   "metadata": {
    "code_folding": [
     0
    ]
   },
   "outputs": [],
   "source": [
    "# PARAMATER CONFIGURATION\n",
    "# ---------------------------------------------------------------------------\n",
    "nx = 1250          # Number of grid points.\n",
    "v = 5500.          # Acoustic velocity in m/s.\n",
    "x_max = 10000      # Length of the domain in m.\n",
    "eps = 0.9          # CFL\n",
    "tmax = 1.0         # Simulation time in s\n",
    "idisp = 2          # display frequency\n",
    "sig = 100          # Sigma for the gaussian source time function\n",
    "x0 = 1000          # Center point of the source time function"
   ]
  },
  {
   "cell_type": "code",
   "execution_count": null,
   "metadata": {
    "code_folding": [
     0
    ]
   },
   "outputs": [],
   "source": [
    "# INITIALIZE COORDINATES AND SET UP THE MODEL\n",
    "\n",
    "# Choose between the finite difference scheme: \"upwind\" or a \"centered\"\n",
    "# -------------------------\n",
    "fd_type = \"upwind\"\n",
    "# fd_type = \"centered\"\n",
    "\n",
    "\n",
    "# Spatial setup\n",
    "# -------------------------\n",
    "x = np.linspace(0, x_max, nx)\n",
    "dx = x[1] - x[0]\n",
    "\n",
    "# Use wave based CFL criterion, time step will be calculated from stability criterion\n",
    "dt = eps * dx / v\n",
    "\n",
    "# Simulation time\n",
    "# -------------------------\n",
    "nt = int(tmax / dt)\n",
    "\n",
    "# Initial condition in space\n",
    "# -------------------------\n",
    "sx = np.exp(-1.0 / sig ** 2.0 * (x - x0) ** 2.0)"
   ]
  },
  {
   "cell_type": "code",
   "execution_count": null,
   "metadata": {},
   "outputs": [],
   "source": [
    "# Initialize fields\n",
    "# -------------------------\n",
    "u = sx\n",
    "unew = np.zeros(nx)\n",
    "du = np.zeros(nx)\n",
    "k1 = np.zeros(nx)\n",
    "k2 = np.zeros(nx)\n",
    "q = np.zeros(nx)"
   ]
  },
  {
   "cell_type": "code",
   "execution_count": null,
   "metadata": {
    "code_folding": [
     0
    ]
   },
   "outputs": [],
   "source": [
    "# Plot the initial conditions\n",
    "plt.close()\n",
    "plt.figure(figsize=(10,6))\n",
    "plt.title(\"Initial Conditions\")\n",
    "plt.grid()\n",
    "plt.plot(x, u, color=\"black\", lw=2)\n",
    "plt.xlabel(\"x (m)\")\n",
    "plt.ylabel(\"Amplitude\")\n",
    "plt.show()"
   ]
  },
  {
   "cell_type": "code",
   "execution_count": null,
   "metadata": {
    "code_folding": [
     0
    ]
   },
   "outputs": [],
   "source": [
    "# Advection Equation - Euler Scheme\n",
    "\n",
    "# Plot the initial condition for comparison \n",
    "fig1 = plt.figure(figsize=(10, 6))\n",
    "ax1 = fig1.add_subplot(111)\n",
    "line1, = ax1.plot(x, u, color=\"black\", lw=1.5, label=\"Current State\")\n",
    "ax1.plot(x, u, color=\"0.5\", ls=\"--\", lw=1, label=\"Initial State\")\n",
    "\n",
    "if fd_type == \"upwind\":\n",
    "    title1 = \"Upwind finite-difference - Euler scheme\"\n",
    "elif fd_type == \"centered\":\n",
    "    title1 = \"Centered finite-difference- Euler scheme\"\n",
    "else:\n",
    "    raise ValueError(\"fd_type must be 'forward' or 'centered'\")\n",
    "\n",
    "ax1.set_title(title1 + \", time step: %i, time: %.2g s\" % (0, 0))\n",
    "ax1.set_xlabel(\"x (m)\")\n",
    "ax1.set_ylabel(\"Amplitude\")\n",
    "ax1.grid() \n",
    "ax1.set_ylim(u.min(), u.max() * 1.1)\n",
    "ax1.legend()\n",
    "\n",
    "None"
   ]
  },
  {
   "cell_type": "code",
   "execution_count": null,
   "metadata": {},
   "outputs": [],
   "source": [
    "# Progress Bar\n",
    "progress_handler1 = ProgressBarHandler(nt, 'Euler Scheme Simulation')\n",
    "\n",
    "# Simulation Results\n",
    "unew_results = np.zeros((nt//idisp + 1, nx))\n",
    "\n",
    "for it in range(nt):    \n",
    "    # Here we start the actual time extrapolation \n",
    "    # Calculate the space derivative of u(x) and write it into du(x) \n",
    "    du[:] = 0.0\n",
    "    for j in range(1, nx - 1):\n",
    "        if fd_type == \"upwind\":\n",
    "            du[j] = (u[j] - u[j - 1]) / dx\n",
    "        elif fd_type == \"centered\":\n",
    "            du[j] = (u[j + 1] - u[j - 1]) / (2.0 * dx)\n",
    "\n",
    "    # time extrapolation scheme (Euler)\n",
    "    unew = u - dt * v * du\n",
    "\n",
    "    # The new presence is the current future!\n",
    "    u = unew\n",
    "    \n",
    "    if it % idisp == 0:\n",
    "        unew_results[it//idisp] = unew\n",
    "        \n",
    "    progress_handler1(it)"
   ]
  },
  {
   "cell_type": "code",
   "execution_count": null,
   "metadata": {},
   "outputs": [],
   "source": [
    "from animation import create_animation_advection_1d_euler_scheme\n",
    "\n",
    "ani1 = create_animation_advection_1d_euler_scheme(locals())\n",
    "display(HTML(ani1.to_jshtml()))\n",
    "\n",
    "plt.close()"
   ]
  },
  {
   "cell_type": "markdown",
   "metadata": {},
   "source": [
    "#### Predictor-Corrector Method\n",
    "The predictor-corrector method or Heun's method is obtained from the Euler method and the trapezoidal rule. Let's  rewrite the advection equation as\n",
    "$$\n",
    "\\partial_t u(x,t) = f(u,t) = - v\\partial_x u(x,t) \n",
    "$$\n",
    "where $u$ is the solution velocity field, $v$ is the speed and $f$ is a linear operator. \n",
    "\n",
    "The first-order Euler scheme corresponds to \n",
    "$$\n",
    "\\tilde{u} = u(x, t+\\Delta t) = u(x,t) + \\Delta t f(u, t)\n",
    "$$\n",
    "\n",
    "Once we get the partial derivative of velocity field $\\partial_x u(x,t)$ form the operator $f$, calculated using the upwind finite difference scheme, the Heun's method is applied as follows:\n",
    "\n",
    "* First the predictor is evaluated: it calculates the linear operator $f$ in the previous time step. \n",
    "$$\n",
    "  k1 = f(u,t) = f(u^n, t^n) \n",
    "$$\n",
    "* Second the corrector: calculates the linear operator in the current time step, which is unknown and therefore is calculated using the expression obtained form the first-order Euler scheme. \n",
    "$$\n",
    " k2 = f(\\tilde{u}, t+ \\Delta t) = f(\\tilde{u}^{n+1}, t^{n+1})  \n",
    "$$\n",
    "* Finally: improve the initial guess using trapezoidal rule and get a solution for the velocity field\n",
    "$$\n",
    "u^{n+1} = u^n + \\frac{\\Delta t}{2}(k1 + k2)\n",
    "$$"
   ]
  },
  {
   "cell_type": "code",
   "execution_count": null,
   "metadata": {
    "code_folding": [
     0
    ]
   },
   "outputs": [],
   "source": [
    "# Advection Equation - Predictor Corrector Scheme\n",
    "\n",
    "# Initial conditions\n",
    "u = sx\n",
    "unew = np.zeros(nx)\n",
    "du = np.zeros(nx)\n",
    "k1 = np.zeros(nx)\n",
    "k2 = np.zeros(nx)\n",
    "q = np.zeros(nx)\n",
    "\n",
    "\n",
    "# Plot the initial condition for comparison \n",
    "# Initialize figures\n",
    "fig2 = plt.figure(figsize=(10, 6))\n",
    "ax2 = fig2.add_subplot(111)\n",
    "line2, = ax2.plot(x, u, color=\"black\", lw=1.5, label=\"Current State\")\n",
    "ax2.plot(x, u, color=\"0.5\", ls=\"--\", lw=1, label=\"Initial State\")\n",
    "\n",
    "title2 = \"Upwind finite-difference scheme - Predictor corrector method\"\n",
    "\n",
    "ax2.set_title(title2 + \", time step: %i, time: %.2g s\" % (0, 0))\n",
    "ax2.set_xlabel(\"x (m)\")\n",
    "ax2.set_ylabel(\"Amplitude\")\n",
    "ax2.grid() \n",
    "ax2.set_ylim(u.min(), u.max() * 1.1)\n",
    "ax2.legend()\n",
    "\n",
    "None"
   ]
  },
  {
   "cell_type": "code",
   "execution_count": null,
   "metadata": {},
   "outputs": [],
   "source": [
    "# Progress Bar\n",
    "progress_handler2 = ProgressBarHandler(nt, 'Predictor Corrector Scheme Simulation')\n",
    "\n",
    "# Simulation Results\n",
    "unew_results = np.zeros((nt//idisp + 1, nx))\n",
    "\n",
    "for it in range(nt):\n",
    "    # Here we start the actual time extrapolation, the task for you is to calculate \n",
    "    # the space derivative of u(x) and write it into du(x) \n",
    "    du[:] = 0.0\n",
    "    # Calculate the spatial derivative using the upwind approach\n",
    "    for j in range(1, nx - 1):\n",
    "        du[j] = (u[j] - u[j - 1]) / dx\n",
    "\n",
    "    # time extrapolation\n",
    "    # predictor\n",
    "    k1 = v * du\n",
    "    q = u - dt*v*du\n",
    "    \n",
    "    unew = q\n",
    "\n",
    "    # corrector \n",
    "    for j in range(1, nx - 1):\n",
    "        du[j]=(q[j+1]-q[j])/dx\n",
    "    k2 = v*du\n",
    "    \n",
    "    # predictor corrector extrapolation\n",
    "    unew = u - 0.5*dt*(k1+k2)\n",
    "    \n",
    "    u = unew\n",
    "    \n",
    "    if it % idisp == 0:\n",
    "        unew_results[it//idisp] = unew\n",
    "        \n",
    "    progress_handler2(it)"
   ]
  },
  {
   "cell_type": "code",
   "execution_count": null,
   "metadata": {},
   "outputs": [],
   "source": [
    "from animation import create_animation_advection_1d_predictor_corrector_scheme\n",
    "\n",
    "ani2 = create_animation_advection_1d_predictor_corrector_scheme(locals())\n",
    "\n",
    "display(HTML(ani2.to_jshtml()))\n",
    "    \n",
    "plt.close()"
   ]
  },
  {
   "cell_type": "markdown",
   "metadata": {},
   "source": [
    "#### McCormack Scheme\n",
    "The McCormack scheme is also used to solve first order hyperbolic partial differential equations and is considered a second order finite difference method. Its algorithm is the following: \n",
    "* First using the Euler method with an upwind approximation to calculate the solution $u_i^{\\overline{n+1}}$\n",
    "$$\n",
    "u_i^{\\overline{n+1}} = u_i^n - v \\frac{\\Delta t}{\\Delta x} (u_i^n - u_{i-1}^n)\n",
    "$$\n",
    "* And second compute the corrector and update the solution. \n",
    "$$\n",
    "u_i^{n+1} = \\frac{u_i^n + u_i^{\\overline{n+1}}}{2} - v \\frac{\\Delta t}{2 \\Delta x}(u_{i+1}^{\\overline{n+1}} - u_{i}^{\\overline{n+1}}) \n",
    "$$\n",
    "\n",
    "The first term in the above equation is an average of the solution calculated from the Euler method $u_i^{\\overline{n+1}}$ with the current one $u_i^n$. And the second term is the forward finite differences approximation with the $u_i^{\\overline{n+1}}$ solution from the Euler approximation."
   ]
  },
  {
   "cell_type": "code",
   "execution_count": null,
   "metadata": {
    "code_folding": [
     0
    ]
   },
   "outputs": [],
   "source": [
    "# Advection Equation - McCormack Scheme\n",
    "\n",
    "# Initial conditions\n",
    "u = sx\n",
    "unew = np.zeros(nx)\n",
    "du = np.zeros(nx)\n",
    "k1 = np.zeros(nx)\n",
    "k2 = np.zeros(nx)\n",
    "q = np.zeros(nx)"
   ]
  },
  {
   "cell_type": "code",
   "execution_count": null,
   "metadata": {},
   "outputs": [],
   "source": [
    "# Plot the initial condition for comparison \n",
    "# Initialize figures\n",
    "fig3 = plt.figure(figsize=(10, 6))\n",
    "ax3 = fig3.add_subplot(111)\n",
    "line3, = ax3.plot(x, u, color=\"black\", lw=1.5, label=\"Current State\")\n",
    "ax3.plot(x, u, color=\"0.5\", ls=\"--\", lw=1, label=\"Initial State\")\n",
    "\n",
    "title3 = \"McCormack scheme\"\n",
    "\n",
    "ax3.set_title(title3 + \", time step: %i, time: %.2g s\" % (0, 0))\n",
    "ax3.set_xlabel(\"x (m)\")\n",
    "ax3.set_ylabel(\"Amplitude\")\n",
    "ax3.grid()\n",
    "ax3.set_ylim(u.min(), u.max() * 1.1)\n",
    "ax3.legend()\n",
    "\n",
    "None"
   ]
  },
  {
   "cell_type": "code",
   "execution_count": null,
   "metadata": {},
   "outputs": [],
   "source": [
    "# Progress Bar\n",
    "progress_handler3 = ProgressBarHandler(nt, 'McCormack Scheme Simulation')\n",
    "\n",
    "# Simulation Results\n",
    "unew_results = np.zeros((nt//idisp + 1, nx))\n",
    "\n",
    "for it in range(nt):\n",
    "    # Here we start the actual time extrapolation, the task for you is to calculate \n",
    "    # the space derivative of u(x) and write it into du(x) \n",
    "    du[:] = 0.0\n",
    "    # Calculate the spatial derivative using the upwind approach\n",
    "    for j in range(1, nx - 1):\n",
    "            du[j] = (u[j] - u[j - 1]) / dx\n",
    "\n",
    "    # time extrapolation\n",
    "    # 1st step\n",
    "    q = u - dt*v*du\n",
    "\n",
    "    # 2nd step \n",
    "    for j in range(1, nx - 1):\n",
    "        du[j]=(q[j+1]-q[j])/dx\n",
    "\n",
    "    # update\n",
    "    unew = 0.5*(u + q) - v*dt*0.5*du\n",
    "    \n",
    "    # The new presence is the current future!\n",
    "    u = unew\n",
    "    \n",
    "    if it % idisp == 0:\n",
    "        unew_results[it//idisp] = unew\n",
    "        \n",
    "    progress_handler3(it)"
   ]
  },
  {
   "cell_type": "code",
   "execution_count": null,
   "metadata": {},
   "outputs": [],
   "source": [
    "from animation import create_animation_advection_1d_mccormack_scheme\n",
    "\n",
    "ani3 = create_animation_advection_1d_mccormack_scheme(locals())\n",
    "\n",
    "display(HTML(ani3.to_jshtml()))\n",
    "\n",
    "plt.close()"
   ]
  },
  {
   "cell_type": "markdown",
   "metadata": {},
   "source": [
    "#### Lax Wendroff Scheme\n",
    "Finally the Lax Wendroff scheme is also used to solve hyperbolic partial differential equations and is considered a second order method in the space and time domain. It is found using a Taylor approximation of $u_i^{n+1}$,\n",
    "$$\n",
    "u_i^{n+1} \\approx u_i^{n} - \\Delta t v \\frac{\\partial u}{\\partial x}\\Biggr\\vert_i^n + \\Delta t^2 v^2 \\frac{\\partial^2 u}{\\partial^2 x} \\Biggr\\vert_i^n + ... \n",
    "$$\n",
    "\n",
    "Then the solution for each time step of the velocity field is \n",
    "$$\n",
    "u_i^{n+1} = u_i^n - \\frac{\\Delta t}{2 \\Delta x} v (u^n_{i+1}- u^n_{i-1}) + \\frac{\\Delta t^2}{2 \\Delta x^2} v^2 (u_{i+1}^n - 2 u_i^n + u_{i-1}^n)\n",
    "$$\n",
    "\n",
    "which uses a centred finite differences scheme. "
   ]
  },
  {
   "cell_type": "code",
   "execution_count": null,
   "metadata": {
    "code_folding": [
     0
    ]
   },
   "outputs": [],
   "source": [
    "# Advection Equation - Lax Wendroff Scheme\n",
    "\n",
    "# Initial conditions\n",
    "u = sx\n",
    "unew = np.zeros(nx)\n",
    "q = np.zeros(nx)\n",
    "du = np.zeros(nx)"
   ]
  },
  {
   "cell_type": "code",
   "execution_count": null,
   "metadata": {},
   "outputs": [],
   "source": [
    "# plot the initial condition for comparison \n",
    "# Initialize figures\n",
    "fig4 = plt.figure(figsize=(10,6))\n",
    "ax4 = fig4.add_subplot(111)\n",
    "line4, = ax4.plot(x, u, color=\"black\", lw=1.5, label=\"Current State\")\n",
    "ax4.plot(x, u, color=\"0.5\", ls=\"--\", lw=1, label=\"Initial State\")\n",
    "\n",
    "title4 = \"Lax Wendroff scheme\"\n",
    "\n",
    "ax4.set_title(title4 + \", time step: %i, time: %.2g s\" % (0, 0))\n",
    "ax4.set_xlabel(\"x (m)\")\n",
    "ax4.set_ylabel(\"Amplitude\")\n",
    "ax4.grid()\n",
    "ax4.set_ylim(u.min(), u.max() * 1.1)\n",
    "ax4.legend()\n",
    "\n",
    "None"
   ]
  },
  {
   "cell_type": "code",
   "execution_count": null,
   "metadata": {},
   "outputs": [],
   "source": [
    "# Progress Bar\n",
    "progress_handler4 = ProgressBarHandler(nt, 'Lax Wendroff Scheme Simulation')\n",
    "\n",
    "# Simulation Results\n",
    "unew_results = np.zeros((nt//idisp + 1, nx))\n",
    "\n",
    "for it in range(nt):\n",
    "    # Lax Wendroff scheme\n",
    "    # (central diff)\n",
    "    for j in range(1,nx-1):\n",
    "        # q =  a*(v[j+1]-2.*v[j]+v[j-1])\n",
    "        # vnew[j]=v[j] + q\n",
    "        du[j] = (u[j + 1] - u[j - 1]) / (2.0 * dx)\n",
    "        q[j] = dt**2/(2.0*dx**2)*v**2*(u[j+1]-2.*u[j]+u[j-1])\n",
    "        \n",
    "    # time extrapolation scheme (Euler)\n",
    "    unew = u - dt * v * du + q\n",
    "    \n",
    "    u = unew\n",
    "    \n",
    "    if it % idisp == 0:\n",
    "        unew_results[it//idisp] = unew\n",
    "        \n",
    "    progress_handler4(it)"
   ]
  },
  {
   "cell_type": "code",
   "execution_count": null,
   "metadata": {},
   "outputs": [],
   "source": [
    "from animation import create_animation_advection_1d_lax_wendroff_scheme\n",
    "\n",
    "ani4 = create_animation_advection_1d_lax_wendroff_scheme(locals())\n",
    "\n",
    "display(HTML(ani4.to_jshtml()))\n",
    "\n",
    "plt.close()"
   ]
  },
  {
   "cell_type": "code",
   "execution_count": null,
   "metadata": {},
   "outputs": [],
   "source": []
  }
 ],
 "metadata": {
  "kernelspec": {
   "display_name": "Python 3",
   "language": "python",
   "name": "python3"
  },
  "language_info": {
   "codemirror_mode": {
    "name": "ipython",
    "version": 3
   },
   "file_extension": ".py",
   "mimetype": "text/x-python",
   "name": "python",
   "nbconvert_exporter": "python",
   "pygments_lexer": "ipython3",
   "version": "3.12.3"
  }
 },
 "nbformat": 4,
 "nbformat_minor": 2
}
